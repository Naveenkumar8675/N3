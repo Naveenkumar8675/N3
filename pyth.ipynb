{
 "cells": [
  {
   "cell_type": "code",
   "execution_count": null,
   "metadata": {},
   "outputs": [
    {
     "name": "stdout",
     "output_type": "stream",
     "text": [
      "surya weds Meghna\n"
     ]
    }
   ],
   "source": [
    "'''Meghna=input(\"ENTER DIED 0R ALIVE:\")\n",
    "if Meghna==\"died\":\n",
    "    print(\"Suriya meets Priya\")\n",
    "else:\n",
    "    print(\"surya weds Meghna\")'''\n"
   ]
  }
 ],
 "metadata": {
  "kernelspec": {
   "display_name": "Python 3",
   "language": "python",
   "name": "python3"
  },
  "language_info": {
   "codemirror_mode": {
    "name": "ipython",
    "version": 3
   },
   "file_extension": ".py",
   "mimetype": "text/x-python",
   "name": "python",
   "nbconvert_exporter": "python",
   "pygments_lexer": "ipython3",
   "version": "3.12.1"
  }
 },
 "nbformat": 4,
 "nbformat_minor": 2
}
